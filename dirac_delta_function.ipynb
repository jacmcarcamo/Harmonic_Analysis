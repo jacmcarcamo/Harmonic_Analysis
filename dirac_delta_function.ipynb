{
 "cells": [
  {
   "cell_type": "markdown",
   "metadata": {},
   "source": [
    "# Dirac Delta Function"
   ]
  },
  {
   "cell_type": "markdown",
   "metadata": {},
   "source": [
    "## Definition\n",
    "\n",
    "\\begin{equation}\n",
    "    \\left\\{\n",
    "      \\begin{array}{ll}\n",
    "        \\displaystyle\\int_{-\\infty}^\\infty\\delta(t)dt=1 & \\text{if $t=0$}\\\\\n",
    "        0 & \\text{otherwise,}\n",
    "      \\end{array}\n",
    "    \\right.\n",
    "    \\tag{delta_1}\n",
    "    \\label{eq:delta_1}\n",
    "\\end{equation}"
   ]
  },
  {
   "cell_type": "markdown",
   "metadata": {},
   "source": [
    "<img src=\"figures/delta.png\" width=300>"
   ]
  },
  {
   "cell_type": "code",
   "execution_count": null,
   "metadata": {},
   "outputs": [],
   "source": []
  }
 ],
 "metadata": {
  "kernelspec": {
   "display_name": "Python 3",
   "language": "python",
   "name": "python3"
  },
  "language_info": {
   "codemirror_mode": {
    "name": "ipython",
    "version": 3
   },
   "file_extension": ".py",
   "mimetype": "text/x-python",
   "name": "python",
   "nbconvert_exporter": "python",
   "pygments_lexer": "ipython3",
   "version": "3.6.1"
  }
 },
 "nbformat": 4,
 "nbformat_minor": 2
}
