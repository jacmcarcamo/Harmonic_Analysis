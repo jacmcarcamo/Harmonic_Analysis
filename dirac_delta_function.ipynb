{
 "cells": [
  {
   "cell_type": "markdown",
   "metadata": {},
   "source": [
    "# Dirac Delta Function\n",
    "\n",
    "## Definition\n",
    "\n",
    "\\begin{equation}\n",
    "  \\delta(t) =\n",
    "  \\lim_{\\tau\\rightarrow\\infty}\\frac{\\tau}{\\pi}\\textrm{Sinc}(\\tau t).\n",
    "  \\tag{delta_sinc}\n",
    "  \\label{eq:delta_muestreo}\n",
    "\\end{equation}\n",
    "\n",
    "<!-- \\begin{equation}\n",
    "    \\left\\{\n",
    "      \\begin{array}{ll}\n",
    "        \\displaystyle\\int_{-\\infty}^\\infty\\delta(t)dt=1 & \\text{if $t=0$}\\\\\n",
    "        0 & \\text{otherwise,}\n",
    "      \\end{array}\n",
    "    \\right.\n",
    "    \\tag{delta_1}\n",
    "    \\label{eq:delta_1}\n",
    "\\end{equation}\n",
    "-->\n",
    "\n",
    "<img src=\"figures/delta.png\" width=300>"
   ]
  },
  {
   "cell_type": "markdown",
   "metadata": {},
   "source": [
    "## Properties\n",
    "\n",
    "\\begin{equation}\n",
    "  \\left\\{\n",
    "    \\begin{array}{ll}\n",
    "      \\displaystyle\\int_{-\\infty}^\\infty\\delta(t)dt=1 & \\text{if $t=0$}\\\\\n",
    "      0 & \\text{otherwise,}\n",
    "    \\end{array}\n",
    "  \\right.\n",
    "  \\tag{delta_area}\n",
    "  \\label{eq:delta_area}\n",
    "\\end{equation}\n",
    "\n",
    "\\begin{equation}\n",
    "  \\int_{-\\infty}^\\infty\\delta(t)f(t)dt =\n",
    "  f(0)\\int_{-\\infty}^\\infty\\delta(t)dt = f(0),\n",
    "  \\tag{delta_2}\n",
    "  \\label{eq:delta_2}\n",
    "\\end{equation}\n",
    "\n",
    "\\begin{equation*}\n",
    "  \\int_{-\\infty}^\\infty\\delta(t-t_0)f(t)dt = f(t_0).\n",
    "\\end{equation*}"
   ]
  },
  {
   "cell_type": "markdown",
   "metadata": {},
   "source": [
    "## Fourier transform\n",
    "\n",
    "\\begin{equation}\n",
    "  {\\cal{F}}[\\delta(t)]=1.\n",
    "  \\tag{FT$\\delta$}\n",
    "  \\label{eq:TFdelta}\n",
    "\\end{equation}\n",
    "\n",
    "\\begin{array}{rcl}                                                                                     \n",
    "  {\\cal F}[\\delta(t)] & = & \\displaystyle\\int_{-\\infty}^\\infty\\delta(t)e^{-jwt}dt\\\\\\\\                  \n",
    "  \\multicolumn{3}{l}{\\text{(Aplicando \\ref{eq:delta_2} y \\ref{eq:delta_1})}}\\\\\\\\                       \n",
    "  & = & \\underbrace{e^{-jw0}}_{1}\\underbrace{\\displaystyle\\int_{-\\infty}^\\infty\\delta(t)dt}_{1} = 1.   \n",
    "\\end{array}                                                                                            \n",
    "\n",
    "<img src=\"figures/fourier_delta.png\" width=300>"
   ]
  },
  {
   "cell_type": "code",
   "execution_count": null,
   "metadata": {},
   "outputs": [],
   "source": []
  }
 ],
 "metadata": {
  "kernelspec": {
   "display_name": "Python 3",
   "language": "python",
   "name": "python3"
  },
  "language_info": {
   "codemirror_mode": {
    "name": "ipython",
    "version": 3
   },
   "file_extension": ".py",
   "mimetype": "text/x-python",
   "name": "python",
   "nbconvert_exporter": "python",
   "pygments_lexer": "ipython3",
   "version": "3.6.1"
  }
 },
 "nbformat": 4,
 "nbformat_minor": 2
}
