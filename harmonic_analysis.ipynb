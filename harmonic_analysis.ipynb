{
 "cells": [
  {
   "cell_type": "markdown",
   "metadata": {},
   "source": [
    "# Signal Theory"
   ]
  },
  {
   "cell_type": "markdown",
   "metadata": {},
   "source": [
    "## Dirac Delta Signal\n",
    "\n",
    "Also known as the Unit Impulse Signal."
   ]
  },
  {
   "cell_type": "markdown",
   "metadata": {},
   "source": [
    "### Definitions\n",
    "\n",
    "1. Dirac Delta Signal $\\delta(t)$ is an impulse of energy $1$, infinitely narrow and high, whose area is $1$:\n",
    "\n",
    "   \\begin{equation}\n",
    "     \\left\\{\n",
    "       \\begin{array}{ll}\n",
    "         \\displaystyle\\int_{-\\infty}^\\infty\\delta(t)dt=1 & \\text{if $t=0$}\\\\\n",
    "         0 & \\text{otherwise.}\n",
    "       \\end{array}\n",
    "     \\right.\n",
    "     \\tag{delta_area}\n",
    "     \\label{eq:delta_area}\n",
    "   \\end{equation}\n",
    "   <img src=\"figures/delta.png\" width=300>\n",
    "\n",
    "2. The area of $\\delta(t)$ multiplied by a signal $s(t)$ is the value of $s(t)$ where $\\delta(t)$ is defined:\n",
    "\n",
    "   \\begin{equation}\n",
    "     \\int_{-\\infty}^\\infty\\delta(t)s(t)dt =\n",
    "     s(0)\\int_{-\\infty}^\\infty\\delta(t)dt = s(0),\n",
    "     \\tag{product_signal_delta_area}\n",
    "     \\label{eq:product_signal_delta_area}\n",
    "   \\end{equation}\n",
    "\n",
    "   \\begin{equation}\n",
    "     \\int_{-\\infty}^\\infty\\delta(t-t_0)s(t)dt = s(t_0).\n",
    "     \\tag{product_signal_delta_shifted_area}\n",
    "     \\label{eq:product_signal_delta_shifted_area}  \n",
    "   \\end{equation}"
   ]
  },
  {
   "cell_type": "markdown",
   "metadata": {},
   "source": [
    "### Fourier transform\n",
    "\n",
    "\\begin{array}{rcl}                                                                                     \n",
    "  {\\cal F}[\\delta(t)] & = & \\displaystyle\\int_{-\\infty}^\\infty\\delta(t)e^{-jwt}dt\\\\\\\\                  \n",
    "  & = & \\underbrace{e^{-jw0}}_{1}\\underbrace{\\displaystyle\\int_{-\\infty}^\\infty\\delta(t)dt}_{1} = 1.   \n",
    "  \\tag{$\\delta$_Fourier_transform}\n",
    "  \\label{eq:delta_Fourier_transform}\n",
    "\\end{array}                                                                                            \n",
    "\n",
    "<img src=\"figures/fourier_delta.png\" width=800>"
   ]
  },
  {
   "cell_type": "markdown",
   "metadata": {},
   "source": [
    "### Generation\n",
    "\n",
    "\\begin{equation}\n",
    "  \\delta(t) =\n",
    "  \\lim_{\\tau\\rightarrow\\infty}\\frac{\\tau}{\\pi}\\textrm{Sinc}(\\tau t).\n",
    "  \\tag{delta_sinc}\n",
    "  \\label{eq:delta_muestreo}\n",
    "\\end{equation}\n",
    "\n",
    "<img src=\"figures/funcion_muestreo.png\" width=500>"
   ]
  },
  {
   "cell_type": "markdown",
   "metadata": {},
   "source": [
    "## Fourier transform of the Constant Signal $c(t)=1$\n",
    "\n",
    "By definition:\n",
    "\n",
    "\\begin{equation}\n",
    "  \\displaystyle\\lim_{\\tau\\rightarrow\\infty} g_\\tau(t) = 1.\n",
    "\\end{equation}\n",
    "\n",
    "Applying the Fourier Transform to both sides:\n",
    "\n",
    "\\begin{equation}\n",
    "  {\\cal F}[1] = {\\cal F}[\\displaystyle\\lim_{\\tau\\rightarrow\\infty} g_\\tau(t)].\n",
    "\\end{equation}\n",
    "\n",
    "The Fourier Transform of a limit is the limit of the Fourier Transform:\n",
    "\n",
    "\\begin{equation}\n",
    "  {\\cal F}[\\displaystyle\\lim_{\\tau\\rightarrow\\infty} g_\\tau(t)] = \\displaystyle\\lim_{\\tau\\rightarrow\\infty}{\\cal F}[g_\\tau(t)]\n",
    "\\end{equation}\n",
    "\n",
    "[The Fourier Transform of a Rectangular Signal is a Sinc](https://render.githubusercontent.com/view/ipynb?commit=845ceed6ed3d6ae8cdd901c8ad4a170bdd0b3cbe&enc_url=68747470733a2f2f7261772e67697468756275736572636f6e74656e742e636f6d2f766963656e74652d676f6e7a616c657a2d7275697a2f5468655f466f75726965725f5472616e73666f726d2f383435636565643665643364366165386364643930316338616434613137306264643062336362652f666f75726965725f616e616c797369732e6970796e62&nwo=vicente-gonzalez-ruiz%2FThe_Fourier_Transform&path=fourier_analysis.ipynb&repository_id=116874449&repository_type=Repository#Fourier-transform-of-the-Rectangular-Function):\n",
    "\n",
    "\\begin{equation}\n",
    "  \\displaystyle\\lim_{\\tau\\rightarrow\\infty}{\\cal F}[g_\\tau(t)] = \\displaystyle\\lim_{\\tau\\rightarrow\\infty}\\tau\\text{Sinc}(\\frac{\\tau}{2}\\omega)\n",
    "\\end{equation}\n",
    "\n",
    "A Sinc with period $\\infty$ becomes a Delta:\n",
    "\n",
    "\\begin{equation}\n",
    " \\displaystyle\\lim_{\\tau\\rightarrow\\infty}\\tau\\text{Sinc}(\\frac{\\tau}{2}\\omega) = \\displaystyle2\\pi\\lim_{\\tau\\rightarrow\\infty} \\frac{\\tau}{2\\pi}\\textrm{Sinc}(\\frac{\\tau}{2}\\omega) = 2\\pi\\delta(\\omega).\n",
    "\\end{equation}\n",
    "\n",
    "Therefore,\n",
    "\n",
    "\\begin{equation}\n",
    "  {\\cal F}[1] = 2\\pi\\delta(\\omega).\n",
    "\\end{equation}\n",
    "\n",
    "<img src=\"figures/1_delta.png\" width=800>"
   ]
  },
  {
   "cell_type": "markdown",
   "metadata": {},
   "source": [
    "## Fourier Transform of a periodic signal\n",
    "\n"
   ]
  },
  {
   "cell_type": "markdown",
   "metadata": {},
   "source": [
    "## Fourier Transform of train of equidistant unit impulses (Dirac Deltas)\n",
    "\n",
    "By definition:\n",
    "\n",
    "\\begin{equation}\n",
    "  \\delta_T(t) = \\sum_{n=-\\infty}^{\\infty}\\delta(t-nT).\n",
    "    \\tag{$\\delta_T$}\n",
    "    \\label{eq:delta_T}\n",
    "\\end{equation}\n",
    "\n",
    "Taking the Fourier Transform of both sides:\n",
    "\n",
    "\\begin{equation}\n",
    "    {\\cal F}[\\delta_T(t)] = w_0\\sum_{n=-\\infty}^{\\infty}\\delta(w-nw_0)\n",
    "    = w_0\\delta_{w_0}(w).\n",
    "    \\tag{${\\cal F}[\\delta_T(t)]$}\n",
    "    \\label{eq:TF_delta_T}\n",
    "\\end{equation}"
   ]
  },
  {
   "cell_type": "code",
   "execution_count": null,
   "metadata": {},
   "outputs": [],
   "source": []
  }
 ],
 "metadata": {
  "kernelspec": {
   "display_name": "Python 3",
   "language": "python",
   "name": "python3"
  },
  "language_info": {
   "codemirror_mode": {
    "name": "ipython",
    "version": 3
   },
   "file_extension": ".py",
   "mimetype": "text/x-python",
   "name": "python",
   "nbconvert_exporter": "python",
   "pygments_lexer": "ipython3",
   "version": "3.6.1"
  }
 },
 "nbformat": 4,
 "nbformat_minor": 2
}
