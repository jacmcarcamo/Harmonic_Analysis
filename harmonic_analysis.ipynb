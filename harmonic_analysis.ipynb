 {
 "cells": [
  {
   "cell_type": "markdown",
   "metadata": {},
   "source": [
    "# Signal Theory"
   ]
  },
  {
   "cell_type": "markdown",
   "metadata": {},
   "source": [
    "## Dirac Delta Function (also known as the Unit Impulse Function)"
   ]
  },
  {
   "cell_type": "markdown",
   "metadata": {},
   "source": [
    "### Definitions\n",
    "\n",
    "1. Area of $\\delta(t)$ is an impulse of energy $1$, infinitely narrow and high:\n",
    "\n",
    "   \\begin{equation}\n",
    "     \\left\\{\n",
    "       \\begin{array}{ll}\n",
    "         \\displaystyle\\int_{-\\infty}^\\infty\\delta(t)dt=1 & \\text{if $t=0$}\\\\\n",
    "         0 & \\text{otherwise.}\n",
    "       \\end{array}\n",
    "     \\right.\n",
    "     \\tag{delta_area}\n",
    "     \\label{eq:delta_area}\n",
    "   \\end{equation}\n",
    "   <img src=\"figures/delta.png\" width=300>\n",
    "\n",
    "2. The area of $\\delta(t)$ multiplied by a signal $s(t)$ is the value of $s(t)$ where $\\delta(t)$ is defined:\n",
    "\n",
    "   \\begin{equation}\n",
    "     \\int_{-\\infty}^\\infty\\delta(t)s(t)dt =\n",
    "     s(0)\\int_{-\\infty}^\\infty\\delta(t)dt = s(0),\n",
    "     \\tag{product_signal_delta_area}\n",
    "     \\label{eq:product_signal_delta_area}\n",
    "   \\end{equation}\n",
    "\n",
    "   \\begin{equation}\n",
    "     \\int_{-\\infty}^\\infty\\delta(t-t_0)s(t)dt = s(t_0).\n",
    "     \\tag{product_signal_delta_shifted_area}\n",
    "     \\label{eq:product_signal_delta_shifted_area}  \n",
    "   \\end{equation}"
   ]
  },
  {
   "cell_type": "markdown",
   "metadata": {},
   "source": [
    "### Fourier transform\n",
    "\n",
    "\\begin{array}{rcl}                                                                                     \n",
    "  {\\cal F}[\\delta(t)] & = & \\displaystyle\\int_{-\\infty}^\\infty\\delta(t)e^{-jwt}dt\\\\\\\\                  \n",
    "  & = & \\underbrace{e^{-jw0}}_{1}\\underbrace{\\displaystyle\\int_{-\\infty}^\\infty\\delta(t)dt}_{1} = 1.   \n",
    "  \\tag{$\\delta$_Fourier_transform}\n",
    "  \\label{eq:delta_Fourier_transform}\n",
    "\\end{array}                                                                                            \n",
    "\n",
    "<img src=\"figures/fourier_delta.png\" width=800>"
   ]
  },
  {
   "cell_type": "markdown",
   "metadata": {},
   "source": [
    "### Generation\n",
    "\n",
    "\\begin{equation}\n",
    "  \\delta(t) =\n",
    "  \\lim_{\\tau\\rightarrow\\infty}\\frac{\\tau}{\\pi}\\textrm{Sinc}(\\tau t).\n",
    "  \\tag{delta_sinc}\n",
    "  \\label{eq:delta_muestreo}\n",
    "\\end{equation}\n",
    "\n",
    "<img src=\"figures/funcion_muestreo.png\" width=500>"
   ]
  },
  {
   "cell_type": "markdown",
   "metadata": {},
   "source": [
    "## Fourier transform of the Constant Signal $s(t)=1$\n",
    "\n",
    "* The Fourier Fransform of a Square Signal is a Sinc Signal:\n",
    "\n",
    "  \\begin{equation}                                                                                                                                                                                               \n",
    "    {\\cal F}[g_\\tau(t)] = \\tau\\textrm{Sinc}(\\frac{\\tau}{2}\\omega).                                                                                                                                                     \n",
    "  \\end{equation}\n",
    "\n",
    "* A Square Signal becomes a Constant Signal when:\n",
    "\n",
    "  \\begin{equation}\n",
    "    \\lim_{\\tau\\rightarrow\\infty} g_\\tau(t) = 1.                                                                                                                                                                   \n",
    "  \\end{equation}\n",
    "\n",
    "* Consequently, the Fourier transform of the constant signal $1$ is the Fourier transform of a rectangular signal $g_\\tau(t)$, when $\\tau\\rightarrow\\infty $, i.e.:\n",
    "\n",
    "  \\begin{equation}                                                                                                                                                                                  \n",
    "    \\begin{array}{rcl}                                                                                                                                                                                 \n",
    "      {\\cal F }[1] & = & \\displaystyle\\lim_{\\tau\\rightarrow\\infty} \\tau\\textrm{Sinc}(\\frac{\\tau}{2}\\omega) = \\\\\n",
    "      & = & \\displaystyle2\\pi\\lim_{\\tau\\rightarrow\\infty} \\frac{\\tau}{2\\pi}\\textrm{Sinc}(\\frac{\\tau}{2}\\omega) \\\\                                                                                                                                               \n",
    "      & = & 2\\pi\\delta(\\omega).\n",
    "    \\end{array}\n",
    "  \\end{equation}\n",
    "\n",
    "  <img src=\"figures/1_delta.png\" width=800>"
   ]
  },
  {
   "cell_type": "code",
   "execution_count": null,
   "metadata": {},
   "outputs": [],
   "source": []
  }
 ],
 "metadata": {
  "kernelspec": {
   "display_name": "Python 3",
   "language": "python",
   "name": "python3"
  },
  "language_info": {
   "codemirror_mode": {
    "name": "ipython",
    "version": 3
   },
   "file_extension": ".py",
   "mimetype": "text/x-python",
   "name": "python",
   "nbconvert_exporter": "python",
   "pygments_lexer": "ipython3",
   "version": "3.6.3"
  }
 },
 "nbformat": 4,
 "nbformat_minor": 2
}
