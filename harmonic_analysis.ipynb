{
 "cells": [
  {
   "cell_type": "markdown",
   "metadata": {},
   "source": [
    "# Harmonic Analysis"
   ]
  },
  {
   "cell_type": "markdown",
   "metadata": {},
   "source": [
    "## Fourier Trigonometric Series\n",
    "\n",
    "Any function can be represented by a a linear combination of sinosuidal functions:\n",
    "\n",
    "\\begin{equation}\n",
    "  f(t) = a_0 + \\sum_{i=1}^\\infty \\big(a_i \\cos(i\\omega_0t) + b_i\n",
    "       \\sin(i\\omega_0t)\\big), \\tag{stf}\n",
    "       \\label{eq:stf}\n",
    "\\end{equation}\n",
    "\n",
    "where $$t_0<t<t_0+\\frac{2\\pi}{\\omega_0},$$ $\\omega_0$ if the Fundamental Frequency expresed in radians/second and $a_0$, $\\{a_i\\}$ and $\\{b_i\\}$ are the coefficients of the Fourier Trigonometric Serie.\n",
    "\n",
    "Eq. (stf) only can reconstruct $f(t)$ in a interval of duration $\\frac{2\\pi}{\\omega_0}$ which is equal to the period of the lowest frequency component of $f(t)$."
   ]
  },
  {
   "cell_type": "markdown",
   "metadata": {},
   "source": [
    "## Fourier Exponential Series\n",
    "\n",
    "By definition:\n",
    "\n",
    "\\begin{equation}\n",
    "  \\begin{array}{l}\n",
    "    a_0 = F_0\\\\\n",
    "    a_n = F_{n}+F_{-n}\\\\\n",
    "    b_n = j(F_{n}-F_{-n}),\n",
    "  \\end{array}\n",
    "  \\tag{defs_Fes}\n",
    "  \\label{eq:defs_sef}\n",
    "\\end{equation}\n",
    "\n",
    "where $j=\\sqrt{-1}$."
   ]
  },
  {
   "cell_type": "code",
   "execution_count": null,
   "metadata": {},
   "outputs": [],
   "source": [
    "# Faltan transparencias hasta llegar a definir la Transformada de Fourier"
   ]
  },
  {
   "cell_type": "markdown",
   "metadata": {},
   "source": [
    "## Definition\n",
    "\n",
    "Fourier Analysis allows to represent a function $f(t)$ in the frequency domain using the forward transform:\n",
    "\n",
    "\\begin{equation}\n",
    "    F(\\omega) = \\int_{-\\infty}^{\\infty} f(t)e^{-j\\omega t}dt.\n",
    "    \\tag{Forward_Fourier_Transform}\n",
    "    \\label{eq:Ft}\n",
    "\\end{equation}\n",
    "\n",
    "The original signal can be reconstructed from the frequency domain using the inverse transform:\n",
    "\n",
    "\\begin{equation}\n",
    "    f(t)=\\frac{1}{2\\pi}\\int_{-\\infty}^\\infty F(\\omega)e^{j\\omega t}d\\omega\n",
    "    \\tag{Inverse_Fourier_Transform}\n",
    "    \\label{eq:iFt}\n",
    "\\end{equation}\n",
    "\n",
    "We represent this relationship between $f(t)$ and $F(\\omega)$ as:\n",
    "\n",
    "\\begin{equation}\n",
    "    {\\cal{F}}[f(t)] = F(\\omega).\n",
    "\\end{equation}"
   ]
  },
  {
   "cell_type": "markdown",
   "metadata": {},
   "source": [
    "## Fourier transform of the Rectangular Function\n",
    "\n",
    "<img src=\"figures/cuadrada.png\" width=400>\n",
    "\n",
    "$$\n",
    "  \\begin{array}{ll}\n",
    "    F(\\omega) & = \\displaystyle\\int_{-\\frac{\\tau}{2}}^{\\frac{\\tau}{2}} Ae^{-j\\omega t}dt \\\\\\\\\n",
    "    & = \\displaystyle\\frac{A}{j\\omega}e^{-j\\omega t}\\displaystyle|_{-\\frac{\\tau}{2}}^{\\frac{\\tau}{2}\\\n",
    "}\\\\\\\\\n",
    "    & =\n",
    "    \\displaystyle\\frac{A}{j\\omega}(e^{j\\omega\\frac{\\tau}{2}}-e^{-j\\omega\\frac{\\tau}{2}})\\\\\\\\\n",
    "    & \\textrm{(Teniendo en cuenta que } e^{jx}-e^{-jx}=2j\\sin(x).) \\\\\\\\\n",
    "    & = A\\tau\\displaystyle\\frac{\\sin(\\omega\\frac{\\tau}{2})}{\\omega\\frac{\\tau}{2}}\\\\\\\\\n",
    "    & = A\\tau\\textrm{Sinc}(\\omega\\frac{\\tau}{2}).\n",
    "  \\end{array}\n",
    "$$\n",
    "\n",
    "The function\n",
    "\n",
    "  $$\n",
    "  \\mathrm{Sinc}(x) = \\frac{\\sin(x)}{x}\n",
    "  $$\n",
    "\n",
    "is the Sampling Function."
   ]
  },
  {
   "cell_type": "markdown",
   "metadata": {},
   "source": [
    "## The Sampling Function\n",
    "\n",
    "<img src=\"figures/funcion_muestreo.png\" width=600>\n",
    "\n",
    "If $\\tau\\rightarrow \\infty$ then the spectrum of the Rectangular Function becomes an the Impulse Function at $\\omega=0$, and if $\\tau\\rightarrow 0$, the spectrum is a Constant Function."
   ]
  },
  {
   "cell_type": "markdown",
   "metadata": {},
   "source": [
    "## Dirac Delta Signal\n",
    "\n",
    "Also known as the Unit Impulse Signal."
   ]
  },
  {
   "cell_type": "markdown",
   "metadata": {},
   "source": [
    "### Definitions\n",
    "\n",
    "1. Dirac Delta Signal $\\delta(t)$ is an impulse of energy $1$, infinitely narrow and high, whose area is $1$:\n",
    "\n",
    "   \\begin{equation}\n",
    "     \\left\\{\n",
    "       \\begin{array}{ll}\n",
    "         \\displaystyle\\int_{-\\infty}^\\infty\\delta(t)dt=1 & \\text{if $t=0$}\\\\\n",
    "         0 & \\text{otherwise.}\n",
    "       \\end{array}\n",
    "     \\right.\n",
    "     \\tag{delta_area}\n",
    "     \\label{eq:delta_area}\n",
    "   \\end{equation}\n",
    "   <img src=\"figures/delta.png\" width=300>\n",
    "\n",
    "2. The area of $\\delta(t)$ multiplied by a signal $s(t)$ is the value of $s(t)$ where $\\delta(t)$ is defined:\n",
    "\n",
    "   \\begin{equation}\n",
    "     \\int_{-\\infty}^\\infty\\delta(t)s(t)dt =\n",
    "     s(0)\\int_{-\\infty}^\\infty\\delta(t)dt = s(0),\n",
    "     \\tag{product_signal_delta_area}\n",
    "     \\label{eq:product_signal_delta_area}\n",
    "   \\end{equation}\n",
    "\n",
    "   \\begin{equation}\n",
    "     \\int_{-\\infty}^\\infty\\delta(t-t_0)s(t)dt = s(t_0).\n",
    "     \\tag{product_signal_delta_shifted_area}\n",
    "     \\label{eq:product_signal_delta_shifted_area}  \n",
    "   \\end{equation}"
   ]
  },
  {
   "cell_type": "markdown",
   "metadata": {},
   "source": [
    "### Generation\n",
    "\n",
    "\\begin{equation}\n",
    "  \\delta(t) =\n",
    "  \\lim_{\\tau\\rightarrow\\infty}\\frac{\\tau}{\\pi}\\textrm{Sinc}(\\tau t).\n",
    "  \\tag{delta_sinc}\n",
    "  \\label{eq:delta_muestreo}\n",
    "\\end{equation}\n",
    "\n",
    "<img src=\"figures/funcion_muestreo.png\" width=500>"
   ]
  },
  {
   "cell_type": "markdown",
   "metadata": {},
   "source": [
    "## Fourier transform of Dirac Delta Signal\n",
    "\n",
    "\\begin{array}{rcl}                                                                                     \n",
    "  {\\cal F}[\\delta(t)] & = & \\displaystyle\\int_{-\\infty}^\\infty\\delta(t)e^{-jwt}dt\\\\\\\\                  \n",
    "  & = & \\underbrace{e^{-jw0}}_{1}\\underbrace{\\displaystyle\\int_{-\\infty}^\\infty\\delta(t)dt}_{1} = 1.   \n",
    "  \\tag{$\\delta$_Fourier_transform}\n",
    "  \\label{eq:delta_Fourier_transform}\n",
    "\\end{array}                                                                                            \n",
    "\n",
    "<img src=\"figures/fourier_delta.png\" width=800>"
   ]
  },
  {
   "cell_type": "markdown",
   "metadata": {},
   "source": [
    "## Fourier transform of the Constant Signal $c(t)=1$\n",
    "\n",
    "By definition:\n",
    "\n",
    "\\begin{equation}\n",
    "  \\displaystyle\\lim_{\\tau\\rightarrow\\infty} g_\\tau(t) = 1.\n",
    "\\end{equation}\n",
    "\n",
    "Applying the Fourier Transform to both sides:\n",
    "\n",
    "\\begin{equation}\n",
    "  {\\cal F}[1] = {\\cal F}[\\displaystyle\\lim_{\\tau\\rightarrow\\infty} g_\\tau(t)].\n",
    "\\end{equation}\n",
    "\n",
    "The Fourier Transform of a limit is the limit of the Fourier Transform:\n",
    "\n",
    "\\begin{equation}\n",
    "  {\\cal F}[\\displaystyle\\lim_{\\tau\\rightarrow\\infty} g_\\tau(t)] = \\displaystyle\\lim_{\\tau\\rightarrow\\infty}{\\cal F}[g_\\tau(t)]\n",
    "\\end{equation}\n",
    "\n",
    "[The Fourier Transform of a Rectangular Signal is a Sinc](https://render.githubusercontent.com/view/ipynb?commit=845ceed6ed3d6ae8cdd901c8ad4a170bdd0b3cbe&enc_url=68747470733a2f2f7261772e67697468756275736572636f6e74656e742e636f6d2f766963656e74652d676f6e7a616c657a2d7275697a2f5468655f466f75726965725f5472616e73666f726d2f383435636565643665643364366165386364643930316338616434613137306264643062336362652f666f75726965725f616e616c797369732e6970796e62&nwo=vicente-gonzalez-ruiz%2FThe_Fourier_Transform&path=fourier_analysis.ipynb&repository_id=116874449&repository_type=Repository#Fourier-transform-of-the-Rectangular-Function):\n",
    "\n",
    "\\begin{equation}\n",
    "  \\displaystyle\\lim_{\\tau\\rightarrow\\infty}{\\cal F}[g_\\tau(t)] = \\displaystyle\\lim_{\\tau\\rightarrow\\infty}\\tau\\text{Sinc}(\\frac{\\tau}{2}\\omega)\n",
    "\\end{equation}\n",
    "\n",
    "A Sinc with period $\\infty$ becomes a Delta:\n",
    "\n",
    "\\begin{equation}\n",
    " \\displaystyle\\lim_{\\tau\\rightarrow\\infty}\\tau\\text{Sinc}(\\frac{\\tau}{2}\\omega) = \\displaystyle2\\pi\\lim_{\\tau\\rightarrow\\infty} \\frac{\\tau}{2\\pi}\\textrm{Sinc}(\\frac{\\tau}{2}\\omega) = 2\\pi\\delta(\\omega).\n",
    "\\end{equation}\n",
    "\n",
    "Therefore,\n",
    "\n",
    "\\begin{equation}\n",
    "  {\\cal F}[1] = 2\\pi\\delta(\\omega).\n",
    "  \\tag{FTfc}                                                                                                                      \n",
    "  \\label{eq:TFfc} \n",
    "\\end{equation}\n",
    "\n",
    "<img src=\"figures/1_delta.png\" width=800>"
   ]
  },
  {
   "cell_type": "markdown",
   "metadata": {},
   "source": [
    "## Fourier transform of the complex exponential function $e^{jw_0t}$                                                                   \n",
    "\n",
    "\\begin{equation}\n",
    "  {\\cal F}[e^{jw_0t}] = \\int_{-\\infty}^\\infty e^{jw_0t}e^{-jwt} dt =                                                                  \n",
    "  \\int_{-\\infty}^\\infty e^{-j(w-w_o)t}dt.                                                                                             \n",
    "\\end{equation}\n",
    "\n",
    "Considering Eq. (FTcf) and substituting $w=w-w_0$ we get that\n",
    "\n",
    "\\begin{equation}\n",
    "  {\\cal F}[e^{jw_0t}] = 2\\pi\\delta(w-w_0).\n",
    "  \\tag{FTCE}                                                                                                                      \n",
    "  \\label{eq:FTCE}\n",
    "\\end{equation}\n",
    "\n",
    "<img src=\"figures/TFexpo.png\" width=800>"
   ]
  },
  {
   "cell_type": "markdown",
   "metadata": {},
   "source": [
    "## Fourier Transform of a periodic signal\n",
    "\n"
   ]
  },
  {
   "cell_type": "markdown",
   "metadata": {},
   "source": [
    "## Fourier Transform of train of equidistant unit impulses (Dirac Deltas)\n",
    "\n",
    "By definition:\n",
    "\n",
    "\\begin{equation}\n",
    "  \\delta_T(t) = \\sum_{n=-\\infty}^{\\infty}\\delta(t-nT).\n",
    "    \\tag{$\\delta_T$}\n",
    "    \\label{eq:delta_T}\n",
    "\\end{equation}\n",
    "\n",
    "Taking the Fourier Transform of both sides:\n",
    "\n",
    "\\begin{equation}\n",
    "    {\\cal F}[\\delta_T(t)] = w_0\\sum_{n=-\\infty}^{\\infty}\\delta(w-nw_0)\n",
    "    = w_0\\delta_{w_0}(w).\n",
    "    \\tag{${\\cal F}[\\delta_T(t)]$}\n",
    "    \\label{eq:TF_delta_T}\n",
    "\\end{equation}"
   ]
  },
  {
   "cell_type": "code",
   "execution_count": null,
   "metadata": {},
   "outputs": [],
   "source": []
  }
 ],
 "metadata": {
  "kernelspec": {
   "display_name": "Python 3",
   "language": "python",
   "name": "python3"
  },
  "language_info": {
   "codemirror_mode": {
    "name": "ipython",
    "version": 3
   },
   "file_extension": ".py",
   "mimetype": "text/x-python",
   "name": "python",
   "nbconvert_exporter": "python",
   "pygments_lexer": "ipython3",
   "version": "3.6.3"
  }
 },
 "nbformat": 4,
 "nbformat_minor": 2
}
